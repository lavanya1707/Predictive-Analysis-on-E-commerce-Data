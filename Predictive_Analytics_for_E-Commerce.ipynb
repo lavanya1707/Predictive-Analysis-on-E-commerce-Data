{
 "cells": [
  {
   "cell_type": "code",
   "execution_count": 1,
   "id": "c6bec6b7",
   "metadata": {
    "scrolled": true
   },
   "outputs": [],
   "source": [
    "import pandas as pd"
   ]
  },
  {
   "cell_type": "code",
   "execution_count": 2,
   "id": "d4ceddc6",
   "metadata": {
    "scrolled": true
   },
   "outputs": [
    {
     "data": {
      "text/html": [
       "<div>\n",
       "<style scoped>\n",
       "    .dataframe tbody tr th:only-of-type {\n",
       "        vertical-align: middle;\n",
       "    }\n",
       "\n",
       "    .dataframe tbody tr th {\n",
       "        vertical-align: top;\n",
       "    }\n",
       "\n",
       "    .dataframe thead th {\n",
       "        text-align: right;\n",
       "    }\n",
       "</style>\n",
       "<table border=\"1\" class=\"dataframe\">\n",
       "  <thead>\n",
       "    <tr style=\"text-align: right;\">\n",
       "      <th></th>\n",
       "      <th>date</th>\n",
       "      <th>purchases</th>\n",
       "      <th>items_sold</th>\n",
       "    </tr>\n",
       "  </thead>\n",
       "  <tbody>\n",
       "    <tr>\n",
       "      <th>0</th>\n",
       "      <td>01-08-2023</td>\n",
       "      <td>25</td>\n",
       "      <td>120</td>\n",
       "    </tr>\n",
       "    <tr>\n",
       "      <th>1</th>\n",
       "      <td>02-08-2023</td>\n",
       "      <td>30</td>\n",
       "      <td>150</td>\n",
       "    </tr>\n",
       "    <tr>\n",
       "      <th>2</th>\n",
       "      <td>03-08-2023</td>\n",
       "      <td>18</td>\n",
       "      <td>90</td>\n",
       "    </tr>\n",
       "    <tr>\n",
       "      <th>3</th>\n",
       "      <td>04-08-2023</td>\n",
       "      <td>22</td>\n",
       "      <td>110</td>\n",
       "    </tr>\n",
       "    <tr>\n",
       "      <th>4</th>\n",
       "      <td>05-08-2023</td>\n",
       "      <td>28</td>\n",
       "      <td>140</td>\n",
       "    </tr>\n",
       "    <tr>\n",
       "      <th>5</th>\n",
       "      <td>06-08-2023</td>\n",
       "      <td>35</td>\n",
       "      <td>175</td>\n",
       "    </tr>\n",
       "    <tr>\n",
       "      <th>6</th>\n",
       "      <td>07-08-2023</td>\n",
       "      <td>20</td>\n",
       "      <td>100</td>\n",
       "    </tr>\n",
       "    <tr>\n",
       "      <th>7</th>\n",
       "      <td>08-08-2023</td>\n",
       "      <td>27</td>\n",
       "      <td>135</td>\n",
       "    </tr>\n",
       "    <tr>\n",
       "      <th>8</th>\n",
       "      <td>09-08-2023</td>\n",
       "      <td>31</td>\n",
       "      <td>155</td>\n",
       "    </tr>\n",
       "    <tr>\n",
       "      <th>9</th>\n",
       "      <td>10-08-2023</td>\n",
       "      <td>26</td>\n",
       "      <td>130</td>\n",
       "    </tr>\n",
       "  </tbody>\n",
       "</table>\n",
       "</div>"
      ],
      "text/plain": [
       "         date  purchases  items_sold\n",
       "0  01-08-2023         25         120\n",
       "1  02-08-2023         30         150\n",
       "2  03-08-2023         18          90\n",
       "3  04-08-2023         22         110\n",
       "4  05-08-2023         28         140\n",
       "5  06-08-2023         35         175\n",
       "6  07-08-2023         20         100\n",
       "7  08-08-2023         27         135\n",
       "8  09-08-2023         31         155\n",
       "9  10-08-2023         26         130"
      ]
     },
     "execution_count": 2,
     "metadata": {},
     "output_type": "execute_result"
    }
   ],
   "source": [
    "data = pd.read_csv('ecommerce.csv')\n",
    "data"
   ]
  },
  {
   "cell_type": "code",
   "execution_count": 3,
   "id": "63d4f571",
   "metadata": {},
   "outputs": [],
   "source": [
    "data['date'] = pd.to_datetime(data['date'])"
   ]
  },
  {
   "cell_type": "code",
   "execution_count": 5,
   "id": "0aeeee3c",
   "metadata": {
    "scrolled": true
   },
   "outputs": [
    {
     "name": "stdout",
     "output_type": "stream",
     "text": [
      "Enter a date: 01/08/2023\n"
     ]
    }
   ],
   "source": [
    "user_date = input(\"Enter a date: \")\n",
    "user_date = pd.to_datetime(user_date)"
   ]
  },
  {
   "cell_type": "code",
   "execution_count": 6,
   "id": "6bdd9c42",
   "metadata": {},
   "outputs": [],
   "source": [
    "selected_data = data[data['date'] == user_date]"
   ]
  },
  {
   "cell_type": "code",
   "execution_count": 7,
   "id": "bd205a20",
   "metadata": {},
   "outputs": [],
   "source": [
    "if selected_data.empty:\n",
    "    print(\"No data available for the provided date.\")\n",
    "else:\n",
    "    # Get information for the selected date\n",
    "    purchases_on_date = selected_data['purchases'].values[0]\n",
    "    items_sold_on_date = selected_data['items_sold'].values[0]\n",
    "\n",
    "    avg_purchases_per_day = data['purchases'].mean()\n",
    "    \n",
    "    if purchases_on_date > avg_purchases_per_day:\n",
    "        more_purchases_than_avg = \"more\" \n",
    "    else:\n",
    "        more_purchases_than_avg = \"not more\" \n",
    "    "
   ]
  },
  {
   "cell_type": "code",
   "execution_count": 9,
   "id": "2ec697b6",
   "metadata": {},
   "outputs": [
    {
     "name": "stdout",
     "output_type": "stream",
     "text": [
      "purchases:  25\n",
      "Items sold:  120\n",
      "Purchases were not more than average.\n"
     ]
    }
   ],
   "source": [
    "print(\"purchases: \", purchases_on_date)\n",
    "print(\"Items sold: \", items_sold_on_date)\n",
    "print(\"Purchases were \" + more_purchases_than_avg +\" than average.\")\n"
   ]
  },
  {
   "cell_type": "code",
   "execution_count": null,
   "id": "becd9630",
   "metadata": {},
   "outputs": [],
   "source": []
  },
  {
   "cell_type": "code",
   "execution_count": null,
   "id": "fbc4556e",
   "metadata": {},
   "outputs": [],
   "source": []
  }
 ],
 "metadata": {
  "kernelspec": {
   "display_name": "lav_env",
   "language": "python",
   "name": "lav_env"
  },
  "language_info": {
   "codemirror_mode": {
    "name": "ipython",
    "version": 3
   },
   "file_extension": ".py",
   "mimetype": "text/x-python",
   "name": "python",
   "nbconvert_exporter": "python",
   "pygments_lexer": "ipython3",
   "version": "3.11.4"
  }
 },
 "nbformat": 4,
 "nbformat_minor": 5
}
